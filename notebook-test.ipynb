{
 "cells": [
  {
   "cell_type": "code",
   "execution_count": 2,
   "id": "virtual-advancement",
   "metadata": {},
   "outputs": [
    {
     "name": "stdout",
     "output_type": "stream",
     "text": [
      "Done\n"
     ]
    }
   ],
   "source": [
    "import json\n",
    "import pandas as pd\n",
    "import numpy as np\n",
    "import sys\n",
    "import spacy\n",
    "nlp = spacy.load(\"en_core_web_sm\")\n",
    "import nltk\n",
    "from collections import Counter\n",
    "import Levenshtein\n",
    "import regex\n",
    "\n",
    "tweets = pd.read_json(\"Data\\gg2013.json\")\n",
    "awards = [\"best screenplay - motion picture\", \"best director - motion picture\",\n",
    "          \"best performance by an actress in a television series - comedy or musical\",\n",
    "          \"best foreign language film\", \"best performance by an actor in a supporting role in a motion picture\",\n",
    "          \"best performance by an actress in a supporting role in a series, mini-series or motion picture made for television\",\n",
    "          \"best motion picture - comedy or musical\",\n",
    "          \"best performance by an actress in a motion picture - comedy or musical\",\n",
    "          \"best mini-series or motion picture made for television\",\n",
    "          \"best original score - motion picture\", \"best performance by an actress in a television series - drama\",\n",
    "          \"best performance by an actress in a motion picture - drama\", \"cecil b. demille award\",\n",
    "          \"best performance by an actor in a motion picture - comedy or musical\", \"best motion picture - drama\",\n",
    "          \"best performance by an actor in a supporting role in a series, mini-series or motion picture made for television\",\n",
    "          \"best performance by an actress in a supporting role in a motion picture\", \"best television series - drama\",\n",
    "          \"best performance by an actor in a mini-series or motion picture made for television\",\n",
    "          \"best performance by an actress in a mini-series or motion picture made for television\",\n",
    "          \"best animated feature film\", \"best original song - motion picture\",\n",
    "          \"best performance by an actor in a motion picture - drama\", \"best television series - comedy or musical\",\n",
    "          \"best performance by an actor in a television series - drama\",\n",
    "          \"best performance by an actor in a television series - comedy or musical\"]   \n",
    "print(\"Done\")"
   ]
  },
  {
   "cell_type": "code",
   "execution_count": 173,
   "id": "senior-naples",
   "metadata": {},
   "outputs": [],
   "source": [
    "def host():\n",
    "    print(\"starting\")\n",
    "    hosts = {}\n",
    "    count = 0\n",
    "    for x, col in tweets.iterrows():\n",
    "        tweet = col[\"text\"]\n",
    "        if \"RT\" in tweet: #Prevents getting the same tweet multiple times\n",
    "            continue\n",
    "        if (\"host\" in tweet.lower()):\n",
    "            #To Speed Up (Will Need to Change)\n",
    "#             count += 1\n",
    "#             if (count%2 == 0 or count%3 == 0):\n",
    "#                 continue\n",
    "            doc = nlp(tweet)\n",
    "            #Grabs proper pronouns (Removes certain key phrases too)\n",
    "            pos = [tok.i for tok in doc if (tok.pos_ == \"PROPN\" and tok.text != 'RT' and \"@\" not in tok.text and \"goldenglobe\" not in tok.text.lower() and \"globes\" not in tok.text.lower() and \"golden\" not in tok.text.lower() and \"globe\" not in tok.text.lower() and \"hosts\" not in tok.text.lower() and \"http\" not in tok.text.lower())]\n",
    "            consecutives = []\n",
    "            current = []\n",
    "            for elt in pos:\n",
    "                if len(current) == 0:\n",
    "                    current.append(elt)\n",
    "                else:\n",
    "                    if current[-1] == elt - 1:\n",
    "                        current.append(elt)\n",
    "                    else:\n",
    "                        consecutives.append(current)\n",
    "                        current = [elt]\n",
    "                if (len(current) != 0):\n",
    "                    consecutives.append(current)\n",
    "                properPronouns = [doc[consecutive[0]:consecutive[-1]+1] for consecutive in consecutives]\n",
    "                for h in (properPronouns):\n",
    "                    if (len(h.text.split()) != 2): #Removes Pronouns that aren't 2 words\n",
    "                        continue\n",
    "                    if h.text.lower() in hosts:\n",
    "                        hosts[h.text.lower()] += 1\n",
    "                    else:\n",
    "                        hosts[h.text.lower()] = 1\n",
    "                        \n",
    "    #Find the top 1-2 Names, those will be the people mentioned the most with the word host\n",
    "    host_list = list(hosts.keys())\n",
    "\n",
    "    p = np.percentile(list(hosts.values()),99)\n",
    "    answer = []\n",
    "    for key in hosts.keys():\n",
    "        if (hosts[key] > p):\n",
    "            answer.append(key)\n",
    "    if (len(answer) >= 2):\n",
    "        return answer[:2]\n",
    "    else:\n",
    "        return answer[0]\n",
    "    "
   ]
  },
  {
   "cell_type": "code",
   "execution_count": null,
   "id": "adjusted-savings",
   "metadata": {},
   "outputs": [],
   "source": [
    "print(host())"
   ]
  },
  {
   "cell_type": "code",
   "execution_count": 26,
   "id": "derived-caribbean",
   "metadata": {},
   "outputs": [],
   "source": [
    "def award_names():\n",
    "    print(\"STARTING\")\n",
    "    hosts = {}\n",
    "    count = 0\n",
    "    for x, col in tweets.iterrows():\n",
    "        tweet = col[\"text\"]\n",
    "        if \"RT\" in tweet: #Prevents getting the same tweet multiple times\n",
    "            continue\n",
    "        if (\"best \" in tweet.lower()):# and((\"nominated\" in tweet.lower()) or (\"won\" in tweet.lower()))):                       \n",
    "            doc = nlp(tweet)\n",
    "            # print(doc)\n",
    "#             for tok in doc:\n",
    "#                 print(tok.text, tok.pos_, end=\" \")\n",
    "#             print()\n",
    "#             continue\n",
    "#             for (tok in doc):\n",
    "#                 if (tok.text.lower() == \"best\"):\n",
    "#                     prev = tok.i\n",
    "#                     continue\n",
    "#                 if (tok.i == prev + 1):\n",
    "#                     if tok.po\n",
    "            \n",
    "            #Grabs proper pronouns (Removes certain key phrases too)\n",
    "            # Took this out: tok.pos_ == \"PROPN\" and \n",
    "            pos = [tok.i for tok in doc if ((tok.pos_ == \"PROPN\" or tok.pos_ == \"NOUN\" or (tok.pos_ == \"ADJ\" and tok.text.lower() == \"best\")) and tok.text != 'RT' and \"@\" not in tok.text and \"goldenglobe\" not in tok.text.lower() and \"globes\" not in tok.text.lower() and \"golden\" not in tok.text.lower() and \"globe\" not in tok.text.lower() and \"hosts\" not in tok.text.lower() and \"http\" not in tok.text.lower())]\n",
    "            consecutives = []\n",
    "            current = []\n",
    "            for elt in pos:\n",
    "                if len(current) == 0:\n",
    "                    current.append(elt)\n",
    "                else:\n",
    "                    if current[-1] == elt - 1:\n",
    "                        current.append(elt)\n",
    "                    else:\n",
    "                        consecutives.append(current)\n",
    "                        current = [elt]\n",
    "                if (len(current) != 0):\n",
    "                    consecutives.append(current)\n",
    "                words = [doc[consecutive[0]:consecutive[-1]+1] for consecutive in consecutives]\n",
    "                for h in (words):\n",
    "                    if (h.text.lower()[0:4] != \"best\"):\n",
    "                        continue\n",
    "                    if h.text.lower() in hosts:\n",
    "                        hosts[h.text.lower()] += 1\n",
    "                    else:\n",
    "                        hosts[h.text.lower()] = 1\n",
    "                        \n",
    "    #Find the top 1-2 Names, those will be the people mentioned the most with the word best\n",
    "    host_list = list(hosts.keys())\n",
    "    \n",
    "    print(hosts)\n",
    "    #p = np.percentile(list(hosts.values()),50)\n",
    "    answer = []\n",
    "    for key in hosts.keys():\n",
    "        answer.append(key)\n",
    "    return answer[1:28]"
   ]
  },
  {
   "cell_type": "code",
   "execution_count": 27,
   "id": "accessory-check",
   "metadata": {
    "collapsed": true
   },
   "outputs": [
    {
     "name": "stdout",
     "output_type": "stream",
     "text": [
      "STARTING\n",
      "{'best': 12317, 'best people': 41, 'best use': 30, 'best dress': 189, 'best phrase': 17, 'best looks': 49, 'best choice': 23, 'best line': 378, 'best actress': 8115, 'best actress nominee': 3, 'best actress nominee jennifer': 4, 'best actress nominee jennifer lawrence': 23, 'best actor': 9400, 'best movie': 647, 'best movie drama': 103, 'best lauer': 11, 'best nights': 13, 'best actress drama': 197, 'best dresses': 40, 'best hair': 40, 'best screenplay': 1672, 'best song': 1215, 'best director': 3633, 'best look': 95, 'best look tonight': 7, 'best drama-': 11, 'best shows': 15, 'best friends': 209, 'best supporting': 681, 'best supporting actress': 3934, 'best actress tonight': 30, 'best hostesses': 15, 'best playoff': 2, 'best playoff weekend': 15, 'best dressed': 86, 'best food': 5, 'best duo': 33, 'best thing': 296, 'best ily': 2, 'best ily #': 3, 'best part': 1145, 'best #': 316, 'best james': 4, 'best james cameron': 6, 'best james cameron joke': 13, 'best things': 20, 'best weekend': 2, 'best drama': 713, 'best joke': 186, 'best director tbh': 7, 'best award': 119, 'best award show': 62, 'best episode': 21, 'best life': 6, 'best life choice': 3, 'best friends #': 6, 'best funniest': 7, 'best funniest host': 3, 'best motion': 568, 'best motion picture': 3407, 'best red': 10, 'best red carpet': 15, 'best red carpet quotes': 140, 'best friend': 243, 'best oh': 2, 'best oh ym': 3, 'best oh ym god': 4, 'best oh ym god #': 5, 'best combination': 2, 'best combination lol': 11, 'best host': 17, 'best choices': 7, 'best opening': 134, 'best monologue': 19, 'best idea': 29, 'best time': 26, 'best supporting actor': 2463, 'best supporting actor #': 24, 'best energy': 8, 'best performance': 1564, 'best supporting actor film': 19, 'best jokes': 13, 'best supp': 41, 'best supp actor': 3, 'best supp actor #': 34, 'best supporting answer': 3, 'best supporting answer #': 4, 'best supporting actor christoph': 4, 'best supporting actor christoph waltz': 5, 'bestactor': 10, 'best suppporting': 2, 'best suppporting actor': 3, 'best suppporting actor #': 4, 'best supporting actor award': 43, 'best supporter': 2, 'best supporter actor': 3, 'best supporter actor #': 4, 'best amy': 2, 'best amy adams': 3, 'best supporting tv': 3, 'best supporting tv actress': 14, 'best supporting actress tv': 42, 'best supporting actress tv #': 5, 'best speech': 600, 'best tv': 481, 'best tv actress': 44, 'best support': 4, 'best support actor': 11, 'best pairs': 29, 'best intro': 33, 'best imitation': 62, 'best decision': 26, 'best reason': 33, 'best awards': 102, 'best coasters': 17, 'best actor #': 21, 'best award show opening': 14, 'best lead': 10, 'best lead actress': 15, 'best moments': 400, 'best momentsusa': 10, 'best momentsusa todayglitz': 3, 'best momentsusa todaygli': 9, 'best mini': 232, 'best miniseries': 429, 'best tv mini': 25, 'best mini-': 21, 'best mini-series': 109, 'best mini series': 152, 'best burn': 14, 'best actor drama': 74, 'best tv series': 1350, 'best tv series #': 12, 'best tv movie': 181, 'best child': 5, 'best show': 318, 'best style': 8, 'best tv mini series': 18, 'best tv mini series #': 5, 'best series': 57, 'best tv movie #': 4, 'best score': 171, 'best performances': 7, 'best performances party': 15, 'best guess': 14, 'best mini series #': 4, 'best actress tv': 42, 'best actress tv julian': 4, 'best actress tv julian moore': 5, 'best actress tv julian moore #': 6, 'best actress miniseries': 23, 'best #actress': 66, 'best bit': 7, 'best actress award': 90, 'best picture': 2389, 'best work': 66, 'best picture introductions': 3, 'best motion picutre': 23, 'best accessory': 28, 'best comedy': 663, 'best motion picture #': 45, 'best drama #': 12, 'best picture montage': 3, 'best tv series comedy': 155, 'best stupid': 8, 'best gg': 8, 'best bodies': 11, 'best supporting actor winner': 56, 'best t': 16, 'best camera': 2, 'best camera shots': 7, 'best turtle': 8, 'best lines': 25, 'best sarah': 2, 'best sarah palin': 7, 'best entertainment': 8, 'best way': 78, 'best ppl': 2, 'best extreme': 4, 'best extreme closeups': 18, 'best night': 29, 'best exotic': 78, 'best exotic marigold': 114, 'best exotic marigold hotel': 598, 'best actor comedy': 122, 'best actor comedy series': 54, 'best movies': 41, 'best film': 273, 'best exotic marigold hotel #': 10, 'best picture nominations': 7, 'best exotic marigold hotel transylvania': 11, 'best exotic mummy': 15, 'best hfpa': 2, 'best hfpa president': 3, 'best actor tv': 75, 'best actor tv drama': 61, 'best hair award': 11, 'best actor drama tv': 9, 'best actor tv series': 234, 'best actor tv series drama': 22, 'best actor tv series drama damian': 6, 'best actor tv series drama damian lewis': 15, 'best male': 2, 'best male performance': 7, 'best actor awards': 26, 'best television': 112, 'best television series': 600, 'best television series actor': 420, 'best actor en': 3, 'best actor en serie': 4, 'best actor en serie dramatica': 35, 'best tv actor': 147, 'best supporting ginger': 23, 'best actors': 62, 'best actor damian': 3, 'best actor damian lewis': 19, 'best actor award': 66, 'best actor tv drama award': 29, 'best zingers': 51, 'best motion picture comedy': 169, 'best drama tv': 34, 'best drama tv series': 37, 'best series actor': 3, 'best brit': 17, 'best tv drama': 293, 'best person': 26, 'best tv series drama': 181, 'best tv series-': 6, 'best tv series- drama': 13, 'best drama series': 174, 'best tv series drama homeland': 5, 'best drana': 2, 'best drana tv': 3, 'best drana tv series': 4, 'best drana tv series winner': 11, 'best teleprompter': 2, 'best journeys': 11, 'best clip': 36, 'bestshowontelevision': 1, 'best drama tv show': 4, 'best moment': 235, 'best drama award': 17, 'best lead actor': 72, 'best original': 314, 'best original song': 2083, 'best tv drama #': 8, 'best tv drama series': 51, 'best television drama': 21, 'best nominee': 22, 'best drama series #': 4, 'best acceptance': 83, 'best acceptance speech': 271, 'best boos': 5, 'best political': 2, 'best political shart': 27, 'best marigold': 2, 'best marigold hotel': 3, 'best telelvision': 2, 'best telelvision series': 11, 'best actress mini': 6, 'best actress mini-': 4, 'best actress mini-series': 53, 'best car': 2, 'best car commercials': 3, 'best car commercials #': 4, 'best drunk': 7, 'best well': 8, 'best comedy series': 80, 'best impression': 14, 'best tv show': 31, 'best tv show drama': 4, 'best picture #': 50, 'best videobomb': 23, 'best sofia': 4, 'best sofia vergara': 10, 'best pic': 116, 'best commercial': 7, 'best show #': 3, 'best motion picture drama': 715, 'best job': 22, 'best move': 2, 'best original score': 233, 'best judge': 2, 'best original score award': 24, 'best orignal': 2, 'best orignal scores': 3, 'best score award': 19, 'best score category': 3, 'best soundtrack': 32, 'best soundtrack #': 3, 'best soundtrack #lifeofpi': 4, 'best soundtrack #lifeofpi :)': 5, 'best painted': 11, 'best soundtrack score': 11, 'best original song skyfall': 13, 'best choice #': 3, 'best lace': 8, 'best original song at': 9, 'best original song award': 119, 'best original song motion': 16, 'best original song motion picture': 27, 'best original song #': 59, 'best music': 28, 'best music category': 11, 'best orginal': 2, 'best orginal song': 19, 'best film #': 6, 'best song #': 17, 'best song nominees': 7, 'best original song motion pictures': 11, 'best win': 10, 'best bond': 14, 'best bond theme': 20, 'best thing adele': 11, 'best song winnner': 19, 'best speech award': 22, 'best winner': 16, 'best bond songs': 3, 'best mellowdrama': 11, 'best bond song': 18, 'best acting': 27, 'best bathroom': 2, 'best bathroom attendant': 3, 'best bathroom attendant award': 4, 'best acceptance speeches': 32, 'best swallowed': 2, 'best swallowed rooster': 11, 'best friend #': 12, 'best mom': 2, 'best mom night': 7, 'best song adelle': 15, 'best response': 8, 'best supportin': 4, 'best supportin actor': 7, 'best original song skyfall adele': 5, 'best original song skyfall adele #': 41, 'best lesbian': 23, 'best wins': 2, 'best song #skyfall': 4, 'best bond theme song': 9, 'best song skyfall': 3, 'best song skyfall #': 4, 'best song:-)&gt;&lt': 8, 'best tv duo': 3, 'best veneers': 2, 'best original song จาก': 4, 'best original song จาก skyfall': 5, 'best original song จาก skyfall #': 6, 'best original song :)': 4, 'best bait': 11, 'best film song': 3, 'best song award': 7, 'best stank': 2, 'best stank eye': 11, 'best original song tonight': 9, 'best dressed competition': 3, 'best parts': 105, 'best original song w/': 9, 'best necklace': 2, 'best actor mini': 37, 'best singer': 5, 'best speeches': 34, 'best skin': 5, 'best animation': 34, 'best outfit': 14, 'best actor mini series': 43, 'best actor miniseries': 7, 'best actor tv miniseries': 24, 'best best': 6, 'best best actor': 31, 'best scene': 20, 'best dressed=': 2, 'best dressed= jessica': 3, 'best dressed= jessica alba': 4, 'best dressed= jessica alba #': 5, 'best surprise': 18, 'best hostess': 5, 'best quote': 42, 'best affair': 8, 'best cameo': 22, 'best heist': 17, 'best picture nominees': 11, 'best picture #oscar': 4, 'best picture #oscar winner': 5, 'best actress winner': 23, 'best picture tonight': 3, 'best bill': 2, 'best bill clinton': 15, 'best 1960s': 2, 'best 1960s socialite': 7, 'best real': 6, 'best real life': 3, 'best real life quote': 4, 'best real life quote award': 35, 'best picture nominee': 21, 'best picture nominee #': 4, 'best picture nominee #lincoln': 5, 'best picture nominee lincoln': 50, 'best pictures': 41, 'best pictures #': 3, 'best reaction': 34, 'best season': 2, 'best children': 14, 'best taylor': 16, 'best taylor swift': 36, 'best motion picture nominee': 24, 'best presenters': 96, 'best kristen': 2, 'best kristen wiig': 3, 'best actress category': 11, 'best motion picture drama #': 42, 'best presenter': 26, 'best pr': 2, 'best pr team': 7, 'best presentation': 81, 'best snl': 6, 'best snl episode': 7, 'best duo tonight': 3, 'best snl riff': 7, 'best introduction': 5, 'best snl team': 27, 'best actress comedy': 135, 'best sense': 22, 'best lol': 2, 'best lol #': 3, 'best skit': 25, \"best thing i've\": 7, 'best nominee intro': 3, 'best nominee intro kristen': 4, 'best nominee intro kristen wig': 23, 'best award intro': 15, 'best supporting actress tv categ': 5, 'best supporting actress tv categ #': 6, 'bestactress': 16, 'best punchline': 14, 'best shit': 14, 'best movie trailers': 11, 'best actress comedy jennifer': 4, 'best actress comedy jennifer lawrence': 23, 'best performance -actress': 23, 'best actress motion': 15, 'best actress motion picture': 25, 'best actress motion picture comedy': 34, 'best comedy category': 14, 'best musical': 87, 'best actress motion picture comedy #': 6, 'best picture award': 77, 'best president': 8, 'best actress winner jennifer': 8, 'best actress winner jennifer lawrence': 28, 'best makala': 2, 'best makala maroney': 3, 'best prez': 5, 'best actress |': 6, 'best actress comedy movie': 4, 'best screen': 4, 'best screen cap': 3, 'best song win': 9, 'best supporting actor tv': 48, 'best face': 11, 'best animated': 62, 'best animated feature': 93, 'best animated feature award': 29, 'best supporting actor tv ed': 5, 'best supporting actor tv ed harris': 27, 'best place': 11, 'best beard': 20, 'best appearance': 14, 'best tonight': 8, 'best house': 2, 'best house slave': 3, 'best support actress': 3, 'best support actress time': 4, 'best drama film': 100, 'best drama film department': 29, 'best supporting actress motion': 4, 'best supporting actress motion picture': 23, 'best supporting handjob': 15, 'best peter': 2, 'best peter pan': 3, 'best peter pan haircut': 4, 'best actress #': 18, 'best film fantine': 7, 'best fantine': 2, 'best supporting actress film': 19, 'best supporting actress #': 4, 'best fanny': 14, 'best role': 34, 'best supporting actress nominees': 29, 'best smile': 2, 'best day': 27, 'best actresses': 13, 'best freckles': 14, 'best family': 2, 'best string': 200, 'best original song motion picture #': 13, 'best dreams': 5, 'best actress mini series': 14, 'best :)': 4, 'best moment everrrrr': 3, 'best actress win': 15, 'best supporting actress movie': 23, 'best #journeys': 23, 'best score #': 3, 'best presenters #': 3, 'best screenplay motion': 12, 'best screenplay motion picture': 106, 'best supporting actress xd': 14, 'best bed': 8, 'best screenplay #': 16, 'best screenplay ―': 3, 'best screenplay ― quentin': 4, 'best screenplay ― quentin tarantino': 17, 'best screenwriter': 19, 'best motion picture screenplay': 66, 'best film screenplay': 15, 'best writer': 8, 'best costume': 2, 'best costume design': 15, 'best gauze': 2, 'best gauze bandage': 15, 'best screenplay award': 30, 'best compliment': 16, 'best screenplay win': 15, 'best screenplay 😍': 3, 'best screenplay 😍😍': 19, 'best part tonight': 3, 'best dress jennifer': 6, 'best dress jennifer lawrence': 4, 'best writing': 25, 'best screenplay winner': 19, 'best friendd': 2, 'best mini-actor': 34, 'best film nominee': 15, 'best title': 14, 'best drunken': 2, 'best drunken acceptance': 3, 'best drunken acceptance speech': 24, 'best actor tv series comedy': 64, 'best actor tv comedy': 27, 'best actor tv comedy don': 5, 'best actor tv comedy don cheadle': 20, 'best april': 2, 'best april ludgate': 3, 'best april ludgate impression': 4, 'best actor tv comedy series': 17, 'best comedies': 8, 'best actor tv category': 14, 'best reputation': 2, 'best reputation co.': 3, 'best supporting actress tonight': 14, 'best comments': 2, 'best hairstyle': 2, 'best mitt': 2, 'best mitt romney': 3, 'best mitt romney voice': 24, 'best greek': 2, 'best greek singer': 3, 'best screen play': 23, 'best foreign': 122, 'best foreign film': 371, 'best news': 4, 'best news promo': 3, 'best actor winner': 13, 'best actor winner don': 4, 'best actor winner don cheadle': 5, 'best foreign language': 72, 'best foreign language film': 258, 'best foreign language film #': 21, 'best actress trophy': 7, 'best forigen': 2, 'best forigen films': 3, 'best picture nom': 11, 'best foreign film #': 8, 'best foreign language movie': 24, 'best witty': 2, 'best witty banter': 3, 'best foreign film category': 9, 'best undressed': 2, 'best fashion': 7, 'best fashion duo': 3, 'best artist': 11, 'best foreign film award': 4, 'best living': 4, 'best living screenwriter': 23, 'best days': 2, 'best live': 11, 'best random': 2, 'best random stream': 15, 'best foreign language award': 24, 'best words': 14, 'best actress tv drama': 48, 'best feature': 2, 'best feature winner': 11, 'best george': 2, 'best george hamilton': 3, 'best george hamilton impersonation': 9, 'best actress tv series': 12, 'best actress tv series drama': 58, 'best drama tv actress': 14, 'best orange': 2, 'best orange tan': 3, 'best orange tan category': 4, 'best chin': 8, 'best actess': 14, 'best tweets': 7, 'best dress award': 19, 'best claire': 2, 'best claire danes': 19, 'best celebrity': 4, 'best celebrity couple': 7, 'best zip': 2, 'best zip superstar': 3, 'best supporting actress comedy': 14, 'best twitter': 2, 'best twitter account': 7, 'best pepper': 2, 'best pepper grinder': 3, 'best film tonight': 3, 'best animated feature film': 166, 'best kids': 2, 'best kids films': 11, 'best animate': 2, 'best animate feature': 3, 'best animate feature film-': 9, 'best animated film': 11, 'best cartoon': 4, 'best cartoon award': 15, 'best puppet': 2, 'best puppet show': 3, 'best animated picture': 3, 'best animated picture winner': 14, 'best scottish': 2, 'best scottish stereotype': 11, 'best movie category': 11, 'best animated movie': 34, 'best pixar': 4, 'best pixar film': 3, 'best pixar film category': 9, 'best voice': 2, 'best voice actor': 7, 'best films': 24, 'best narrators': 8, 'best pixar movie': 11, 'best group': 31, 'best drama nominee': 3, 'best drama nominee #': 39, 'best party': 19, 'best seat': 13, 'best reoccurring': 2, 'best reoccurring character': 31, 'best reactions': 2, 'best tv series actress': 135, 'best weed': 2, 'best weed backstage': 7, 'best ugliest': 11, 'best failed': 2, 'best failed bit': 7, 'best actress tv comedy': 97, 'best actress com': 11, 'best actress comedy series': 24, 'best actress tv series comedy': 41, 'best actres': 26, 'best man': 7, 'best dinner': 2, 'best dinner party': 19, 'best movie #': 31, 'best celeb': 2, 'best celeb tweets': 23, 'best nominee cutaway': 54, 'best penguin': 2, 'best penguin walking': 3, 'best penguin walking impression': 19, 'best comedy actor': 300, 'best celebrities': 11, 'best cartoon character': 7, 'best taylor swift joke': 23, 'best advice': 22, 'best tux': 2, 'best actor award coz': 9, 'best joke tonight': 3, 'best host zingers': 3, 'best vampire': 2, 'best vampire actor': 15, 'best animated feature film #': 5, 'best #jodiefoster': 3, 'best #jodiefoster movie': 14, 'best comedy actress': 3, 'best comedy actress division': 34, 'best man speech': 11, 'best nap': 2, 'best beauty': 4, 'best movie title': 11, 'best life time': 3, 'best life time achievement': 9, 'best speech writer': 15, 'best efforts': 2, 'best award speeches': 3, 'best table': 20, 'best celebrity sex': 3, 'best celebrity sex tape': 9, 'best jodie': 2, 'best jodie foster': 3, 'best jodie foster movie': 4, 'best sport': 5, 'best headline': 2, 'best exceptance': 2, 'best exceptance speeches': 7, 'best women': 8, 'best actor acceptance': 3, 'best actor acceptance speech': 14, 'best picture awards': 22, 'best tina': 13, 'best tina fey': 51, 'best director time': 3, 'best director award': 178, 'best director motion': 27, 'best director motion picture-': 4, 'best director motion picture- ben': 5, 'best director motion picture- ben affleck': 6, 'best director motion picture': 57, 'best directors': 2, 'best directors nominee': 7, 'best director ben': 18, 'best director ben affleck': 64, 'best director oscar': 7, 'best film director': 18, 'best director ―': 3, 'best director ― ben': 4, 'best director ― ben affleck': 11, 'best director #': 69, 'best director awards': 11, 'best director drama': 11, 'best wife': 9, 'best directing': 11, 'best hair day': 7, 'best jimmy': 2, 'best jimmy fallon': 3, 'best director win': 76, 'best motion picture director': 24, 'best picture yo': 15, 'best direction': 19, 'best revenge': 8, 'best recovery': 14, 'best dresses jennifer': 3, 'best dresses jennifer lawrence': 24, 'best director winners': 3, 'bestdirector': 1, 'best director category': 44, 'best director #argo': 4, 'best speech #': 3, 'best speech #jodyfoster': 49, 'best dress #': 3, 'best dress #juliannemoore': 4, 'best dress #juliannemoore best': 5, 'best dress #juliannemoore best moment': 6, 'best dress #juliannemoore best moment #': 7, 'best dress #juliannemoore best moment #billclinton': 17, 'best director nomination': 11, 'best supporting actr': 9, 'best night evar': 3, 'best tv comedy': 181, 'best tv comedy #': 4, 'best tv comedy #girls': 5, 'best tv series musical': 34, 'best tv show musical': 9, 'best director motion picture #': 192, 'best tv series winner': 24, 'best dirctor': 14, 'best theme': 11, 'best comedy series #': 23, 'best comedy series #brilliantwriting': 5, 'best comedy series #brilliantwriting congrats': 13, 'best television show': 3, 'best television show musical': 14, 'best tv comedy series': 18, 'best webseries': 8, 'best director winner': 18, 'best tv series comedy award': 17, 'best telivision': 4, 'best telivision series-': 3, 'best telivision series- comedy': 14, 'best director nom': 44, 'best couple': 30, 'best comedy award': 15, 'best tv comedy |': 8, 'best comedy tv': 6, 'best comedy tv series': 4, 'best definition': 5, 'best tv comedy actress': 24, 'best&lt;3': 5, 'best suppor': 4, 'best director win tonight': 14, 'best fad': 2, 'besttvshowever': 1, 'best comedy tv show': 9, 'best best television': 6, 'best best television comedy': 28, 'best batman': 2, 'best director acceptance': 3, 'best director acceptance speech': 14, 'best honey': 2, 'best actor motion': 21, 'best actor motion picture': 68, 'best actor motion picture comedy': 76, 'best thing ben': 3, 'best thing ben affleck': 4, 'best actor hugh': 9, 'best actor hugh jackman': 42, 'best seinfeld': 2, 'best seinfeld movie': 35, 'best actor de': 3, 'best actor de comedia': 4, 'best actor de comedia o': 5, 'best actor de comedia o musical': 62, 'best actor motion picture #': 35, 'best actor win': 50, 'best actor category': 17, 'best actor musical': 27, 'best ladies': 8, 'best kind': 5, 'best husband': 26, 'best motion picture movie': 9, 'best actor speech': 7, 'best part #': 3, 'best #comedy': 27, 'best legs': 5, 'best jean': 2, 'best jean valjean': 19, 'best comedy series actress': 14, 'best drama prediction': 31, 'best propaganda': 2, 'best propaganda film': 3, 'best propaganda film #': 4, 'best dustin': 2, 'best dustin hoffman': 3, 'best dustin hoffman impersonation': 4, 'best dustin hoffman impersonation #': 5, 'best motion picture-': 6, 'best motion picture- comedy': 18, 'best film comedy': 42, 'best movieeeee': 5, 'best comedy #': 6, 'best picture musical': 7, 'best movie comedy': 25, 'best picture comedy': 44, 'best news today': 15, 'best picture speech': 14, 'best film award': 3, 'best musical #': 3, 'best musical #lifemade': 4, 'best musical #lifemade #': 5, 'best musical #lifemade #lesmiserables': 6, 'best movie-': 2, 'best movie- comedy': 3, 'best picture winner': 26, 'best motion picture time': 14, 'best review': 8, 'best supporting actress anne': 4, 'best supporting actress anne hathaway': 41, 'best kanye': 2, 'best kanye interruption': 7, 'best gifs': 12, 'best film sacha': 3, 'best film sacha baron': 4, 'best film sacha baron cohen': 5, 'best movie actress': 77, 'best actress drama jessica': 4, 'best actress drama jessica chastain': 11, 'best actress drama #': 4, 'best actress motion picture drama': 58, 'best motion pic': 19, 'best narration': 11, 'best actress oscar': 3, 'best actress oscar #': 4, 'best actress winners': 3, 'best actress winners tonight': 19, 'best bipartisan': 2, 'best bipartisan freak': 3, 'best bipartisan freak out': 4, 'best bipartisan freak out bait': 29, 'best actor |': 11, 'best side': 2, 'best side boob': 7, 'best old': 2, 'best old man': 3, 'best old man crush': 19, 'best film drama': 6, 'best mullett': 2, 'best actor 😍': 11, 'best actress drama perfection': 9, 'best actor-': 2, 'best actor- drama': 23, 'best #actor': 31, 'best john': 2, 'best john waters': 3, 'best john waters mustache': 24, 'best actor motion picture drama': 52, 'best actor daniel': 3, 'best actor daniel day': 4, 'best actor daniel day lewis': 17, 'best torture': 5, 'best livetweeter': 5, 'best pictu': 2, 'best actrees': 2, 'best actrees drama': 19, 'best living playwrights': 15, 'best award speech': 3, 'best flick': 13, 'best couple #': 3, 'best real fraud': 6, 'best real fraud president': 88, 'best actress acceptance': 3, 'best actress acceptance speech': 19, 'best pic noms': 35, 'best year': 8, 'best kate': 2, 'best kate hudson': 3, 'best kate hudson worst': 4, 'best kate hudson worst lucy': 5, 'best kate hudson worst lucy lui': 6, 'best movie actor': 54, 'best movie award': 18, 'best picture drama': 165, 'best drama picture': 32, 'best motion picture drama winner': 11, 'best dramatic': 2, 'best dramatic motion': 3, 'best dramatic motion picture': 24, 'best actor category drama': 9, 'best drama motion': 6, 'best drama motion picture': 8, 'best drama motion picture #': 5, 'best picture win': 14, 'best motiion': 2, 'best motiion picture': 7, 'best picture -drama': 3, 'best drama movie': 22, 'best superhero': 2, 'best superhero movie': 7, 'best picture-': 6, 'best picture- drama': 31, 'best motion picture drama ♥': 5, 'best drama picture winner': 4, 'best closing': 4, 'best closing line': 14, 'best picture oscar': 10, 'best portrayal': 11, 'best bits': 20, 'best sleep': 5, 'best dress jennifer garner': 39, 'best drama movie #': 4, 'best variety': 2, 'best variety show': 3, 'best picture- congrats': 22, 'best film drama #': 4, 'best banter': 14, 'best dir': 20, 'bests': 25, 'best beauty look': 15, 'best featured': 6, 'best featured actress': 45, 'best backside': 8, 'best perfomance': 2, 'best drama category': 11, 'best blowjob': 11, 'best flu': 2, 'best flu pra': 3, 'best flu pra meryl': 9, 'best picturre': 29, 'best bff': 2, 'best bff moments': 11, 'best motion drama': 11, 'best actor oscars': 19, 'best picture race': 19, 'best announcers': 8, 'best damn': 14, 'best motion picture argo': 4, 'best motion picture argo #': 5, 'best quotes': 63, 'best body': 29, 'best school': 5, 'best tweeter': 14, 'best eloquently': 2, 'best eloquently kick': 19, 'best adele': 2, 'best adele accents': 7, 'best everav': 11, 'best jury': 5, 'best motion picture tonight': 9, 'best actress drama winner': 407, 'best supportingactress': 20, 'best tweet': 8, 'best pic #': 3, 'best hollywood': 2, 'best hollywood movie': 15, 'best commentary': 2, 'best host duets': 3, 'best picture.acolytes': 2, 'best picture.acolytes stand': 7, 'best musical/': 2, 'best musical/ comedy': 31, 'best original s': 3, 'best insults': 327, 'best comedy series win': 4, 'best presidents': 2, 'best catalog': 2, 'best catalog model': 3, 'best catalog model poses': 4, 'best telivision series': 15}\n",
      "['best people', 'best use', 'best dress', 'best phrase', 'best looks', 'best choice', 'best line', 'best actress', 'best actress nominee', 'best actress nominee jennifer', 'best actress nominee jennifer lawrence', 'best actor', 'best movie', 'best movie drama', 'best lauer', 'best nights', 'best actress drama', 'best dresses', 'best hair', 'best screenplay', 'best song', 'best director', 'best look', 'best look tonight', 'best drama-', 'best shows', 'best friends']\n"
     ]
    }
   ],
   "source": [
    "print(award_names())"
   ]
  },
  {
   "cell_type": "code",
   "execution_count": null,
   "id": "demographic-capital",
   "metadata": {},
   "outputs": [],
   "source": [
    "def fuzzy_match(base, candidate, threshold):\n",
    "    dist = Levenshtein.distance(base, candidate)\n",
    "    base_len = len(base_str)\n",
    "    return (dist <= round(base_len * threshold))"
   ]
  },
  {
   "cell_type": "code",
   "execution_count": 23,
   "id": "respected-vision",
   "metadata": {},
   "outputs": [
    {
     "name": "stdout",
     "output_type": "stream",
     "text": [
      "STARTING\n",
      "done\n",
      "{'best original song - motion picture': 'skyfall', 'best animated feature film': 'brave', 'best motion picture - comedy or musical': 'les', 'best foreign language film': 'amour', 'best performance by an actor in a motion picture - drama': 'daniel day', 'best motion picture - drama': 'argo'}\n"
     ]
    }
   ],
   "source": [
    "def award_winners():\n",
    "    print(\"STARTING\")\n",
    "    winners = {}\n",
    "    count = 0\n",
    "    for x, col in tweets.iterrows():\n",
    "        tweet = col[\"text\"]\n",
    "        if \"RT\" in tweet: #Prevents getting the same tweet multiple times\n",
    "            continue\n",
    "        for award in awards:\n",
    "            if (award in tweet.lower() and \"won\" in tweet.lower()):\n",
    "                #print(tweet)\n",
    "                doc = nlp(tweet)\n",
    "                pos = [tok.i for tok in doc if (tok.pos_ == \"PROPN\" and tok.text != 'RT' and \"@\" not in tok.text and \"#\" not in tok.text and \"goldenglobe\" not in tok.text.lower() and \"globes\" not in tok.text.lower() and \"golden\" not in tok.text.lower() and \"globe\" not in tok.text.lower() and \"hosts\" not in tok.text.lower() and \"http\" not in tok.text.lower())]\n",
    "                consecutives = []\n",
    "                current = []\n",
    "                for elt in pos:\n",
    "                    if len(current) == 0:\n",
    "                        current.append(elt)\n",
    "                    else:\n",
    "                        if current[-1] == elt - 1:\n",
    "                            current.append(elt)\n",
    "                        else:\n",
    "                            consecutives.append(current)\n",
    "                            current = [elt]\n",
    "                    if (len(current) != 0):\n",
    "                        consecutives.append(current)\n",
    "                    properPronouns = [doc[consecutive[0]:consecutive[-1]+1] for consecutive in consecutives]\n",
    "                    for h in (properPronouns):\n",
    "                        if (\"best\" in h.text.lower() or \"hbo\" in h.text.lower()):\n",
    "                            continue\n",
    "                        if (h.text.lower() in award):\n",
    "                            continue\n",
    "                        if ((\"act\" in award or \"director\" in award or \"cecil\" in award) and (len(h.text.split()) != 2)):\n",
    "                            continue\n",
    "                        if award in winners:\n",
    "                            if h.text.lower() in winners[award]:\n",
    "                                winners[award][h.text.lower()] += 1\n",
    "                            else:\n",
    "                                winners[award][h.text.lower()] = 1\n",
    "                        else:\n",
    "                            winners[award] = {}\n",
    "                            winners[award][h.text.lower()] = 1\n",
    "    \n",
    "    winn = {}\n",
    "    for key in winners:\n",
    "        winn[key] = list(winners[key])[0]\n",
    "    print(\"done\")\n",
    "    print(winn)\n",
    "award_winners()"
   ]
  },
  {
   "cell_type": "code",
   "execution_count": null,
   "id": "expensive-muslim",
   "metadata": {},
   "outputs": [],
   "source": []
  }
 ],
 "metadata": {
  "kernelspec": {
   "display_name": "Python 3",
   "language": "python",
   "name": "python3"
  },
  "language_info": {
   "codemirror_mode": {
    "name": "ipython",
    "version": 3
   },
   "file_extension": ".py",
   "mimetype": "text/x-python",
   "name": "python",
   "nbconvert_exporter": "python",
   "pygments_lexer": "ipython3",
   "version": "3.9.1"
  }
 },
 "nbformat": 4,
 "nbformat_minor": 5
}
