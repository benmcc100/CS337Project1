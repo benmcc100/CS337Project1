{
 "cells": [
  {
   "cell_type": "code",
   "execution_count": 212,
   "id": "virtual-advancement",
   "metadata": {},
   "outputs": [
    {
     "name": "stdout",
     "output_type": "stream",
     "text": [
      "Done\n"
     ]
    }
   ],
   "source": [
    "import json\n",
    "import pandas as pd\n",
    "import numpy as np\n",
    "import sys\n",
    "import spacy\n",
    "nlp = spacy.load(\"en_core_web_sm\")\n",
    "import nltk\n",
    "from collections import Counter\n",
    "import Levenshtein\n",
    "import re\n",
    "import regex\n",
    "\n",
    "tweets = pd.read_json(\"Data\\gg2013.json\")  \n",
    "print(\"Done\")"
   ]
  },
  {
   "cell_type": "code",
   "execution_count": 185,
   "id": "stone-bandwidth",
   "metadata": {},
   "outputs": [],
   "source": [
    "#### Global variables\n",
    "awards = [\"best screenplay - motion picture\", \"best director - motion picture\",\n",
    "          \"best performance by an actress in a television series - comedy or musical\",\n",
    "          \"best foreign language film\", \"best performance by an actor in a supporting role in a motion picture\",\n",
    "          \"best performance by an actress in a supporting role in a series, mini-series or motion picture made for television\",\n",
    "          \"best motion picture - comedy or musical\",\n",
    "          \"best performance by an actress in a motion picture - comedy or musical\",\n",
    "          \"best mini-series or motion picture made for television\",\n",
    "          \"best original score - motion picture\", \"best performance by an actress in a television series - drama\",\n",
    "          \"best performance by an actress in a motion picture - drama\", \"cecil b. demille award\",\n",
    "          \"best performance by an actor in a motion picture - comedy or musical\", \"best motion picture - drama\",\n",
    "          \"best performance by an actor in a supporting role in a series, mini-series or motion picture made for television\",\n",
    "          \"best performance by an actress in a supporting role in a motion picture\", \"best television series - drama\",\n",
    "          \"best performance by an actor in a mini-series or motion picture made for television\",\n",
    "          \"best performance by an actress in a mini-series or motion picture made for television\",\n",
    "          \"best animated feature film\", \"best original song - motion picture\",\n",
    "          \"best performance by an actor in a motion picture - drama\", \"best television series - comedy or musical\",\n",
    "          \"best performance by an actor in a television series - drama\",\n",
    "          \"best performance by an actor in a television series - comedy or musical\"] \n",
    "\n",
    "key_word_award_mapping = {\n",
    "        \"best screenplay - motion picture\": [\"screenplay\", \"motion\", \"^(?!.*actor).*$\", \"^(?!.*actress).*$\"], \n",
    "        \"best director - motion picture\": [\"director\", \"motion\", \"^(?!.*actor).*$\", \"^(?!.*actress).*$\"],\n",
    "        \"best performance by an actress in a television series - comedy or musical\" : [\"actress\", \"comedy|musical\", \"television|tv|tele|series\", \"^(?!.*support).*$\"],\n",
    "        \"best foreign language film\" : [\"foreign\"],\n",
    "        \"best performance by an actor in a supporting role in a motion picture\" : [\"actor\", \"support\", \"motion\"],\n",
    "        \"best performance by an actress in a supporting role in a series, mini-series or motion picture made for television\" : [\"actress\", \"support\", \"television|tv|tele|series|film\", \"mini|film\"],\n",
    "        \"best motion picture - comedy or musical\" : [\"motion\", \"comedy|musical\", \"^(?!.*actor).*$\", \"^(?!.*actress).*$\"],\n",
    "        \"best performance by an actress in a motion picture - comedy or musical\" : [\"actress\", \"motion\", \"comedy|musical\", \"^(?!.*support).*$\"],\n",
    "        \"best mini-series or motion picture made for television\" : [\"television|tv|series\", \"mini|film\", \"^(?!.*actor).*$\", \"^(?!.*actress).*$\"],\n",
    "        \"best original score - motion picture\" : [\"score\", \"motion\", \"^(?!.*actor).*$\", \"^(?!.*actress).*$\"],\n",
    "        \"best performance by an actress in a television series - drama\" : [\"actress\", \"television|tv|tele|series\", \"drama\", \"^(?!.*support).*$\"],\n",
    "        \"best performance by an actress in a motion picture - drama\" : [\"actress\", \"motion\", \"drama\", \"^(?!.*support).*$\"],\n",
    "        \"cecil b. demille award\" : [\"cecil\", \"demille\"],\n",
    "        \"best performance by an actor in a motion picture - comedy or musical\" : [\"actor\", \"motion\", \"comedy|musical\", \"^(?!.*support).*$\"], \n",
    "        \"best motion picture - drama\" : [\"motion\", \"drama\", \"^(?!.*actor).*$\", \"^(?!.*actress).*$\"],\n",
    "        \"best performance by an actor in a supporting role in a series, mini-series or motion picture made for television\" : [\"support\", \"actor\", \"television|tv|tele|series|film\", \"mini|film\"],\n",
    "        \"best performance by an actress in a supporting role in a motion picture\" : [\"actress\", \"support\", \"motion\"],\n",
    "        \"best television series - drama\" : [\"television|tv|series\", \"drama\", \"^(?!.*actor).*$\", \"^(?!.*actress).*$\"],\n",
    "        \"best performance by an actor in a mini-series or motion picture made for television\": [\"actor\", \"television|tv|series\", \"mini|film\" \"^(?!.*support).*$\"],\n",
    "        \"best performance by an actress in a mini-series or motion picture made for television\" : [\"actress\", \"television|tv|tele|series|film\", \"mini|film\", \"^(?!.*support).*$\"],\n",
    "        \"best animated feature film\" : [\"animated\", \"film\"],\n",
    "        \"best original song - motion picture\" : [\"original\", \"song\", \"motion\", \"^(?!.*actor).*$\", \"^(?!.*actress).*$\", \"^(?!.*by).*$\"],\n",
    "        \"best performance by an actor in a motion picture - drama\" : [\"actor\", \"motion\", \"drama\", \"^(?!.*support).*$\"],\n",
    "        \"best television series - comedy or musical\" : [\"television|tv|series\", \"comedy|musical\", \"^(?!.*actor).*$\", \"^(?!.*actress).*$\"],\n",
    "        \"best performance by an actor in a television series - drama\" : [\"actor\", \"television|tv|series\", \"drama\", \"^(?!.*support).*$\"],\n",
    "        \"best performance by an actor in a television series - comedy or musical\" : [\"actor\", \"television|tv|series\", \"comedy|musical\", \"^(?!.*support).*$\"]    } \n",
    "    \n",
    "tokens_to_ignore = [\"RT\", \"@\", \"golden globe\", \"goldenglobe\", \"globe\", \"globes\", \"golden\", \"hosts\", \"http\", \"#\"]"
   ]
  },
  {
   "cell_type": "code",
   "execution_count": 84,
   "id": "cultural-madison",
   "metadata": {},
   "outputs": [],
   "source": [
    "###Sequence to Get Potential Answers\n",
    "def getSolutionsFromPositions(doc, pos):\n",
    "    consecutives = []\n",
    "    current = []\n",
    "    for elt in pos:\n",
    "        if len(current) == 0:\n",
    "            current.append(elt)\n",
    "        else:\n",
    "            if current[-1] == elt - 1:\n",
    "                current.append(elt)\n",
    "            else:\n",
    "                consecutives.append(current)\n",
    "                current = [elt]\n",
    "        if (len(current) != 0):\n",
    "            consecutives.append(current)\n",
    "    if ([doc[consecutive[0]:consecutive[-1]+1] for consecutive in consecutives] is None):\n",
    "        return []\n",
    "    else:\n",
    "        return [doc[consecutive[0]:consecutive[-1]+1] for consecutive in consecutives]"
   ]
  },
  {
   "cell_type": "code",
   "execution_count": 210,
   "id": "senior-naples",
   "metadata": {},
   "outputs": [],
   "source": [
    "def host():\n",
    "    print(\"starting\")\n",
    "    hosts = {}\n",
    "    count = 0\n",
    "    for x, col in tweets.iterrows():\n",
    "        tweet = col[\"text\"]\n",
    "        if \"RT\" in tweet: #Prevents getting the same tweet multiple times\n",
    "            continue\n",
    "        if (\"host\" in tweet.lower()):\n",
    "            doc = nlp(tweet)\n",
    "            #Grabs proper pronouns (Removes certain key phrases too)\n",
    "            pos = [tok.i for tok in doc if (tok.pos_ == \"PROPN\" and not any(i in tok.text.lower() for i in tokens_to_ignore))]\n",
    "            properPronouns = getSolutionsFromPositions(doc, pos)\n",
    "            \n",
    "            # Only want Phrases with 2 words (to represent a full name)\n",
    "            for h in (properPronouns):\n",
    "                lowerCase = h.text.lower()\n",
    "                if (len(h.text.split()) != 2):\n",
    "                    continue\n",
    "                if lowerCase in hosts:\n",
    "                    hosts[lowerCase] += 1\n",
    "                else:\n",
    "                    hosts[lowerCase] = 1\n",
    "                        \n",
    "    #Find the top 1-2 Names, those will be the people mentioned the most with the word host\n",
    "    host_list = sorted(hosts.keys(), key=hosts.get, reverse=True)\n",
    "    print(host_list)\n",
    "    p = np.percentile(list(hosts.values()),99)\n",
    "    answer = []\n",
    "    for key in host_list:\n",
    "        if (hosts[key] > p):\n",
    "            answer.append(key)\n",
    "    if (len(answer) >= 2):\n",
    "        return answer[:2]\n",
    "    else:\n",
    "        return answer[0]\n",
    "    "
   ]
  },
  {
   "cell_type": "code",
   "execution_count": 211,
   "id": "adjusted-savings",
   "metadata": {},
   "outputs": [
    {
     "name": "stdout",
     "output_type": "stream",
     "text": [
      "starting\n",
      "['tina fey', 'amy poehler', 'kristen wiig', 'opening monologue', 'sexual nightmare', 'amy poelher', 'amy pohler', 'quentin tarantino', 'quentin tarantin', 'will ferrell', 'ricky gervais', 'jodie foster', 'kristin wiig', 'maggie smith', 'james cameron', 'anne hathaway', 'loving tina', 'paul rudd', 'will farrell', 'maggie smi', 'jay leno', 'bill clinton', 'open post', 'kristen wigg', 'dog president', 'jennifer lawrence', 'james franco', 'kristen wig', 'amy poeler', 'bill murray', 'love tina', 'seth macfarlane', 'kevin costner', 'ed harris', 'tina fay', 'japanese cojo', 'red carpet', 'glenn close', 'taylor swift', 'george clooney', 'jimmy fallon', 'drinking game', 'tiny fey', 'tony mendez', 'ryan seacrest', 'kristin wigg', 'quentin tar', 'quentin t', 'mel gibson', 'thinking tina', 'today show', 'tine fey', 'omg tina', 'amy pholer', 'tina faye', 'knew amy', 'queen amy', 'hunger games', 'amy polar', 'amy p.', 'daniel day', 'bravo tina', 'bruce hosted', 'w magazine', 'amy phoeler', 'fasion police', 'daniel craig', 'loving fey', 'rebel wilson', 'hillary clinton', 'will ferrel', 'w/ tina', 'dynamic duos', 'kristen bell', 'oprah winfrey', 'megan fox', 'demi moore', 'love wiig', 'survival trek', 'soo kristen', 'washington post', 'lena dunham', 'mejor actriz', 'robert downey', 'les miserables', 'adam corolla', 'best director', 'ben affleck', 'iran hostage', 'musicology news', 'sarah palin', 'hostage crisis', 'hostage crises', 'john sheardown', 'si robertson', 'dear seth', 'bff moments', 'hahahaha omg', 'princess jasmine', 'tiny fay', 'weekend update', 'queen tina', 'amypoehler rock', 'al roker', 'amy polard', 'ron riggle', 'amy hilarious', 'amy poehlr', 'love fest', 'host guiliana', 'lucille ball', 'matt pinfield', 'amy phoehler', 'baby momma', 'marigold hotel', 'jessica lange', 'selma hayek', 'carnival cruise', 'salma hayek', 'amy poleher', 'super bowl', 'zooey deschanel', 'el clinton', 'mr. clinton', 'fat amy', 'ellen degeneres', 'saturday night', 'silver linings', 'kill myself', 'amp;kristin wiig', 'quentin tara', 'amy host', 'tony awards', 'will farell', 'chainsaw sculpture', 'ghost protocol', 'kristen stewart', 'estelle getty', 'jodi fosters', \"l'wren scott\", 'adam carolla', 'leslie knope', 'amy poheler', 'ng oscar', 'regina george', 'pearl light', 'phil robertson', 'jen garner', 'captcha codecommentyou', 'academy awards']\n",
      "['tina fey', 'amy poehler']\n"
     ]
    }
   ],
   "source": [
    "print(host())"
   ]
  },
  {
   "cell_type": "code",
   "execution_count": 208,
   "id": "derived-caribbean",
   "metadata": {},
   "outputs": [],
   "source": [
    "### Not Working Well\n",
    "def award_names():\n",
    "    print(\"STARTING\")\n",
    "    awardNames = {}\n",
    "    count = 0\n",
    "    for x, col in tweets.iterrows():\n",
    "        tweet = col[\"text\"]\n",
    "        if \"RT\" in tweet: #Prevents getting the same tweet multiple times\n",
    "            continue\n",
    "        if (\"best \" in tweet.lower()):# and((\"nominated\" in tweet.lower()) or (\"won\" in tweet.lower()))):                       \n",
    "            doc = nlp(tweet)\n",
    "            nouns = [\"PROPN\", \"NOUN\"]\n",
    "            pos = [tok.i for tok in doc if ((tok.pos_ in nouns) or (tok.pos_ == \"ADJ\" and tok.text.lower() == \"best\")) and not any(i in tok.text.lower() for i in tokens_to_ignore)]\n",
    "            words = getSolutionsFromPositions(doc, pos)\n",
    "            for h in (words):\n",
    "                lowerCase = h.text.lower()\n",
    "                if (lowerCase[0:5] != \"best \"):\n",
    "                    continue\n",
    "                if lowerCase in awardNames:\n",
    "                    awardNames[lowerCase] += 1\n",
    "                else:\n",
    "                    awardNames[lowerCase] = 1\n",
    "                        \n",
    "                                            \n",
    "    #Find the top 1-2 Names, those will be the people mentioned the most with the word best\n",
    "    award_list = sorted(awardNames.keys(), key=awardNames.get, reverse = True)\n",
    "    answer = []\n",
    "    for i in award_list:\n",
    "        answer.append(i)\n",
    "    return answer[:27]"
   ]
  },
  {
   "cell_type": "code",
   "execution_count": 209,
   "id": "accessory-check",
   "metadata": {},
   "outputs": [
    {
     "name": "stdout",
     "output_type": "stream",
     "text": [
      "STARTING\n",
      "['best actor', 'best actress', 'best director', 'best motion picture', 'best picture', 'best supporting actress', 'best supporting actor', 'best original song', 'best screenplay', 'best tv series', 'best song', 'best part', 'best motion picture drama', 'best performance', 'best drama', 'best movie', 'best comedy', 'best speech', 'best exotic marigold hotel', 'best television series', 'best foreign film', 'best show', 'best thing', 'best actress drama winner', 'best moments', 'best acceptance speech', 'best foreign language film']\n"
     ]
    }
   ],
   "source": [
    "print(award_names())"
   ]
  },
  {
   "cell_type": "code",
   "execution_count": null,
   "id": "demographic-capital",
   "metadata": {},
   "outputs": [],
   "source": [
    "def fuzzy_match(base, candidate, threshold):\n",
    "    dist = Levenshtein.distance(base, candidate)\n",
    "    base_len = len(base_str)\n",
    "    return (dist <= round(base_len * threshold))"
   ]
  },
  {
   "cell_type": "code",
   "execution_count": 214,
   "id": "respected-vision",
   "metadata": {
    "scrolled": false
   },
   "outputs": [
    {
     "name": "stdout",
     "output_type": "stream",
     "text": [
      "STARTING\n",
      "done\n",
      "{\"i'm\": 2, 'happy': 1, 'winner': 4, 'mychael danna': 5, 'life of pi': 3}\n",
      "{'best television series - drama': 'homeland', 'best performance by an actor in a supporting role in a motion picture': 'christoph waltz', 'best performance by an actress in a supporting role in a series, mini-series or motion picture made for television': 'maggie smith', 'best performance by an actress in a supporting role in a motion picture': 'anne hathaway', 'best mini-series or motion picture made for television': 'game change', 'best performance by an actress in a mini-series or motion picture made for television': 'julianne moore', 'best performance by an actor in a mini-series or motion picture made for television': 'kevin costner', 'best performance by an actor in a television series - drama': 'damian lewis', 'best performance by an actress in a television series - drama': 'claire danes', 'best original score - motion picture': 'mychael danna', 'best original song - motion picture': 'skyfall', 'best motion picture - drama': 'argo', 'best performance by an actress in a motion picture - comedy or musical': 'jennifer lawrence', 'best performance by an actress in a television series - comedy or musical': 'lena dunham', 'best performance by an actor in a supporting role in a series, mini-series or motion picture made for television': 'ed harris', 'best screenplay - motion picture': 'quentin tarantino', 'best performance by an actor in a television series - comedy or musical': 'don cheadle', 'best foreign language film': 'amour', 'best animated feature film': 'brave', 'best television series - comedy or musical': 'girls', 'cecil b. demille award': 'jodie foster', 'best director - motion picture': 'ben affleck', 'best performance by an actor in a motion picture - comedy or musical': 'hugh jackman', 'best motion picture - comedy or musical': 'les miserables', 'best performance by an actress in a motion picture - drama': 'jessica chastain', 'best performance by an actor in a motion picture - drama': 'daniel day'}\n"
     ]
    }
   ],
   "source": [
    "def award_winners():\n",
    "    print(\"STARTING\")\n",
    "    phrases_to_ignore = [\"motion picture\", \"best\", \"hbo\"]\n",
    "    winners = {}\n",
    "    count = 0\n",
    "    for x, col in tweets.iterrows():\n",
    "        tweet = col[\"text\"]\n",
    "        if \"RT\" in tweet: #Prevents getting the same tweet multiple times\n",
    "            continue\n",
    "            \n",
    "        if ((\"won\" in tweet.lower() or \"congrat\" in tweet.lower() or \"winner\" in tweet.lower() or \"goes to\" in tweet.lower()) and (\"best\" in tweet.lower() or \"cecil\" in tweet.lower())):\n",
    "            doc = nlp(tweet)\n",
    "            for award in awards:\n",
    "                go = True\n",
    "                for i in key_word_award_mapping[award]:\n",
    "                    if not bool(re.search(i, tweet.lower())):\n",
    "                        go = False\n",
    "                        break\n",
    "                if not go:\n",
    "                    continue\n",
    "                \n",
    "                movies_tv_pos = [\"PROPN\", \"NOUN\", \"ADJ\", \"AUX\", \"VERB\"]\n",
    "                if (\"act\" in award or \"cecil\" in award):\n",
    "                    pos = [tok.i for tok in doc if (tok.pos_ == \"PROPN\" and not any(i in tok.text.lower() for i in tokens_to_ignore))] #maybe include not congrat\n",
    "                else:\n",
    "                    pos = [tok.i for tok in doc if ((tok.pos_ in movies_tv_pos or tok.text.lower() == \"the\" or tok.text.lower() == \"of\") and not any(i in tok.text.lower() for i in tokens_to_ignore))]\n",
    "            \n",
    "    \n",
    "            \n",
    "            \n",
    "                properPronouns = getSolutionsFromPositions(doc, pos)\n",
    "                for h in (properPronouns):\n",
    "                    if (\"hbo\" in h.text.lower() or \"best\" in h.text.lower() or \"motion picture\" in h.text.lower() or \"winners\" == h.text.lower() or \"tv\" == h.text.lower()):\n",
    "                        continue\n",
    "                    if (h.text.lower() in award):\n",
    "                        continue\n",
    "                    if ((\"director\" in award or \"cecil\" in award or \"act\" in award) and (len(h.text.split()) != 2 and len(h.text.split()) != 3)):\n",
    "                        continue\n",
    "                    if award in winners:\n",
    "                        if h.text.lower() in winners[award]:\n",
    "                            winners[award][h.text.lower()] += 1\n",
    "                        else:\n",
    "                            winners[award][h.text.lower()] = 1\n",
    "                    else:\n",
    "                        winners[award] = {}\n",
    "                        winners[award][h.text.lower()] = 1\n",
    "\n",
    "    winn = {}\n",
    "    for x in winners:\n",
    "        winn[x] = max(winners[x], key=winners[x].get)\n",
    "    print(\"done\")\n",
    "\n",
    "    print(winners['best original score - motion picture'])\n",
    "    \n",
    "    print(winn)\n",
    "    for i in awards:\n",
    "        if i not in winn.keys():\n",
    "            print(i)\n",
    "award_winners()"
   ]
  },
  {
   "cell_type": "code",
   "execution_count": null,
   "id": "judicial-removal",
   "metadata": {},
   "outputs": [],
   "source": []
  }
 ],
 "metadata": {
  "kernelspec": {
   "display_name": "Python 3",
   "language": "python",
   "name": "python3"
  },
  "language_info": {
   "codemirror_mode": {
    "name": "ipython",
    "version": 3
   },
   "file_extension": ".py",
   "mimetype": "text/x-python",
   "name": "python",
   "nbconvert_exporter": "python",
   "pygments_lexer": "ipython3",
   "version": "3.9.1"
  }
 },
 "nbformat": 4,
 "nbformat_minor": 5
}
