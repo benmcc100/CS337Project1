{
 "cells": [
  {
   "cell_type": "code",
   "execution_count": 95,
   "id": "virtual-advancement",
   "metadata": {},
   "outputs": [
    {
     "name": "stdout",
     "output_type": "stream",
     "text": [
      "Done\n"
     ]
    }
   ],
   "source": [
    "import json\n",
    "import pandas as pd\n",
    "import numpy as np\n",
    "import sys\n",
    "import spacy\n",
    "nlp = spacy.load(\"en_core_web_sm\")\n",
    "import nltk\n",
    "from collections import Counter\n",
    "\n",
    "tweets = pd.read_json(\"Data\\gg2013.json\")\n",
    "print(\"Done\")"
   ]
  },
  {
   "cell_type": "code",
   "execution_count": 173,
   "id": "senior-naples",
   "metadata": {},
   "outputs": [],
   "source": [
    "def host():\n",
    "    print(\"starting\")\n",
    "    hosts = {}\n",
    "    count = 0\n",
    "    for x, col in tweets.iterrows():\n",
    "        tweet = col[\"text\"]\n",
    "        if \"RT\" in tweet: #Prevents getting the same tweet multiple times\n",
    "            continue\n",
    "        if (\"host\" in tweet.lower()):\n",
    "            #To Speed Up (Will Need to Change)\n",
    "#             count += 1\n",
    "#             if (count%2 == 0 or count%3 == 0):\n",
    "#                 continue\n",
    "            doc = nlp(tweet)\n",
    "            #Grabs proper pronouns (Removes certain key phrases too)\n",
    "            pos = [tok.i for tok in doc if (tok.pos_ == \"PROPN\" and tok.text != 'RT' and \"@\" not in tok.text and \"goldenglobe\" not in tok.text.lower() and \"globes\" not in tok.text.lower() and \"golden\" not in tok.text.lower() and \"globe\" not in tok.text.lower() and \"hosts\" not in tok.text.lower() and \"http\" not in tok.text.lower())]\n",
    "            consecutives = []\n",
    "            current = []\n",
    "            for elt in pos:\n",
    "                if len(current) == 0:\n",
    "                    current.append(elt)\n",
    "                else:\n",
    "                    if current[-1] == elt - 1:\n",
    "                        current.append(elt)\n",
    "                    else:\n",
    "                        consecutives.append(current)\n",
    "                        current = [elt]\n",
    "                if (len(current) != 0):\n",
    "                    consecutives.append(current)\n",
    "                properPronouns = [doc[consecutive[0]:consecutive[-1]+1] for consecutive in consecutives]\n",
    "                for h in (properPronouns):\n",
    "                    if (len(h.text.split()) != 2): #Removes Pronouns that aren't 2 words\n",
    "                        continue\n",
    "                    if h.text.lower() in hosts:\n",
    "                        hosts[h.text.lower()] += 1\n",
    "                    else:\n",
    "                        hosts[h.text.lower()] = 1\n",
    "                        \n",
    "    #Find the top 1-2 Names, those will be the people mentioned the most with the word host\n",
    "    host_list = list(hosts.keys())\n",
    "\n",
    "    p = np.percentile(list(hosts.values()),99)\n",
    "    answer = []\n",
    "    for key in hosts.keys():\n",
    "        if (hosts[key] > p):\n",
    "            answer.append(key)\n",
    "    if (len(answer) >= 2):\n",
    "        return answer[:2]\n",
    "    else:\n",
    "        return answer[0]\n",
    "    "
   ]
  },
  {
   "cell_type": "code",
   "execution_count": null,
   "id": "adjusted-savings",
   "metadata": {},
   "outputs": [],
   "source": [
    "print(host())"
   ]
  },
  {
   "cell_type": "code",
   "execution_count": 193,
   "id": "derived-caribbean",
   "metadata": {},
   "outputs": [],
   "source": [
    "def award_names():\n",
    "    print(\"STARTING\")\n",
    "    hosts = {}\n",
    "    count = 0\n",
    "    for x, col in tweets.iterrows():\n",
    "        tweet = col[\"text\"]\n",
    "        if \"RT\" in tweet: #Prevents getting the same tweet multiple times\n",
    "            continue\n",
    "        if (\"best\" in tweet.lower() and((\"nominated\" in tweet.lower()) or (\"won\" in tweet.lower()))):                       \n",
    "            doc = nlp(tweet)\n",
    "            #Grabs proper pronouns (Removes certain key phrases too)\n",
    "            # Took this out: tok.pos_ == \"PROPN\" and \n",
    "            pos = [tok.i for tok in doc if (tok.pos_ == \"PROPN\" and tok.text != 'RT' and \"@\" not in tok.text and \"goldenglobe\" not in tok.text.lower() and \"globes\" not in tok.text.lower() and \"golden\" not in tok.text.lower() and \"globe\" not in tok.text.lower() and \"hosts\" not in tok.text.lower() and \"http\" not in tok.text.lower())]\n",
    "            consecutives = []\n",
    "            current = []\n",
    "            for elt in pos:\n",
    "                if len(current) == 0:\n",
    "                    current.append(elt)\n",
    "                else:\n",
    "                    if current[-1] == elt - 1:\n",
    "                        current.append(elt)\n",
    "                    else:\n",
    "                        consecutives.append(current)\n",
    "                        current = [elt]\n",
    "                if (len(current) != 0):\n",
    "                    consecutives.append(current)\n",
    "                properPronouns = [doc[consecutive[0]:consecutive[-1]+1] for consecutive in consecutives]\n",
    "                for h in (properPronouns):\n",
    "                    if (\"best\" not in h.text.lower()):\n",
    "                        continue\n",
    "                    if h.text.lower() in hosts:\n",
    "                        hosts[h.text.lower()] += 1\n",
    "                    else:\n",
    "                        hosts[h.text.lower()] = 1\n",
    "                        \n",
    "    #Find the top 1-2 Names, those will be the people mentioned the most with the word best\n",
    "    host_list = list(hosts.keys())\n",
    "    \n",
    "    print(hosts)\n",
    "    #p = np.percentile(list(hosts.values()),50)\n",
    "    answer = []\n",
    "    for key in hosts.keys():\n",
    "        answer.append(key)\n",
    "    return answer[1:30]"
   ]
  },
  {
   "cell_type": "code",
   "execution_count": 194,
   "id": "accessory-check",
   "metadata": {},
   "outputs": [
    {
     "name": "stdout",
     "output_type": "stream",
     "text": [
      "STARTING\n",
      "{'best': 440, 'best actor': 233, 'best supporting': 42, 'best supporting actor': 43, 'best mini': 2, 'best mini series': 11, 'best supporting actress': 98, 'won best': 4, 'won best original': 7, 'best actress': 179, 'best t': 16, 'best picture': 152, 'best actor tv': 3, 'best actor tv series': 34, 'bestshow': 1, 'best drama': 27, 'best tv': 8, 'best tv series': 18, 'best tv series drama': 14, 'pi won best': 3, 'pi won best original': 14, 'best score': 8, 'best original': 33, 'best original song': 79, 'best song': 12, 'best film': 12, 'best actress comedy': 3, 'best actress drama': 40, 'bestactress': 2, 'best actress award': 10, 'best original song motion': 4, 'best original song motion picture': 11, 'welldeservedwin #annehathaway won bestsupportingactress': 5, 'welldeservedwin #annehathaway won bestsupportingactress #': 6, 'welldeservedwin #annehathaway won bestsupportingactress #lesmiserables': 15, 'bestdirector': 8, 'best costume': 2, 'best costume design': 7, 'best director': 201, 'best screenplay': 26, 'bestpicture': 1, 'best random': 2, 'best random stream': 11, 'best pixar': 2, 'best pixar movie': 3, 'best animated': 4, 'best animated feature': 3, 'best animated feature film': 4, 'best group': 14, 'best director oscar': 3, '#bestmovie': 1, 'best director award': 11, 'best tv show': 3, 'best tv show musical': 9, 'won best comedy': 7, 'best television': 2, 'best television series': 11, 'best tv comedy': 3, 'best tv comedy series': 4, 'best comedy': 28, 'best&lt;3': 5, 'best movie': 2, 'best motion': 18, 'best motion picture': 123, 'best film award': 3, 'best musical': 7, 'best pic': 2, 'best mullett': 2, 'bestmotionpicture': 1, 'bestmotionpicture drama': 8, 'best picture drama': 11, 'best motion picture drama': 9, 'best pictures': 8, 'les mis won best': 4, 'les mis won best comedy': 11, 'best picture oscar': 3, 'ben affleck best': 3, 'ben affleck best director': 24, 'argo best': 2, 'argo best movie': 7, 'best actress drama winner': 319, 'best musical/': 2, 'best musical/ comedy': 19, 'bestluck': 1}\n",
      "['best actor', 'best supporting', 'best supporting actor', 'best mini', 'best mini series', 'best supporting actress', 'won best', 'won best original', 'best actress', 'best t', 'best picture', 'best actor tv', 'best actor tv series', 'bestshow', 'best drama', 'best tv', 'best tv series', 'best tv series drama', 'pi won best', 'pi won best original', 'best score', 'best original', 'best original song', 'best song', 'best film', 'best actress comedy', 'best actress drama', 'bestactress', 'best actress award']\n"
     ]
    }
   ],
   "source": [
    "print(award_names())"
   ]
  }
 ],
 "metadata": {
  "kernelspec": {
   "display_name": "Python 3",
   "language": "python",
   "name": "python3"
  },
  "language_info": {
   "codemirror_mode": {
    "name": "ipython",
    "version": 3
   },
   "file_extension": ".py",
   "mimetype": "text/x-python",
   "name": "python",
   "nbconvert_exporter": "python",
   "pygments_lexer": "ipython3",
   "version": "3.9.1"
  }
 },
 "nbformat": 4,
 "nbformat_minor": 5
}
